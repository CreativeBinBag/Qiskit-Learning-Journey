{
 "cells": [
  {
   "cell_type": "code",
   "execution_count": 1,
   "id": "b0bf52be-6ab2-47cd-bc68-a20788e9fbf7",
   "metadata": {},
   "outputs": [],
   "source": [
    "#the Statevector class also provides a method called \"measure\" that can be used to simulate a standard basis measurement. \n",
    "#the method returns two things - the outcome of the measurement, and the quantum state after measurement"
   ]
  },
  {
   "cell_type": "code",
   "execution_count": 2,
   "id": "315197de-6087-4482-bd23-f25dc79d8171",
   "metadata": {},
   "outputs": [],
   "source": [
    "#create a Statevector object"
   ]
  },
  {
   "cell_type": "code",
   "execution_count": 4,
   "id": "8c93198f-d33c-4d39-a304-5c5772741ab1",
   "metadata": {},
   "outputs": [],
   "source": [
    "from qiskit.quantum_info import Statevector"
   ]
  },
  {
   "cell_type": "code",
   "execution_count": 5,
   "id": "10233928-b2e0-4d96-81f7-98c92056e165",
   "metadata": {},
   "outputs": [],
   "source": [
    "v = Statevector([(1 + 2.0j) / 3, -2 / 3])"
   ]
  },
  {
   "cell_type": "code",
   "execution_count": 8,
   "id": "3c70968c-3514-4db3-88d7-06ff2febb541",
   "metadata": {},
   "outputs": [
    {
     "data": {
      "text/latex": [
       "$$(\\frac{1}{3} + \\frac{2 i}{3}) |0\\rangle- \\frac{2}{3} |1\\rangle$$"
      ],
      "text/plain": [
       "<IPython.core.display.Latex object>"
      ]
     },
     "metadata": {},
     "output_type": "display_data"
    }
   ],
   "source": [
    "display(v.draw(\"latex\"))"
   ]
  },
  {
   "cell_type": "code",
   "execution_count": 9,
   "id": "9d27fb8c-569f-4ec2-920d-e38f29e3bf03",
   "metadata": {},
   "outputs": [
    {
     "name": "stdout",
     "output_type": "stream",
     "text": [
      "Measured: 0\n",
      "Post-measurement state:\n"
     ]
    }
   ],
   "source": [
    "outcome, state = v.measure()\n",
    "print(f\"Measured: {outcome}\\nPost-measurement state:\")\n"
   ]
  },
  {
   "cell_type": "code",
   "execution_count": 10,
   "id": "f1169bd3-53a9-4ea2-be99-0006ac789ea2",
   "metadata": {},
   "outputs": [
    {
     "data": {
      "text/latex": [
       "$$(\\frac{\\sqrt{5}}{5} + \\frac{2 \\sqrt{5} i}{5}) |0\\rangle$$"
      ],
      "text/plain": [
       "<IPython.core.display.Latex object>"
      ]
     },
     "metadata": {},
     "output_type": "display_data"
    }
   ],
   "source": [
    "display(state.draw(\"latex\"))"
   ]
  },
  {
   "cell_type": "code",
   "execution_count": null,
   "id": "ac4e469a-9773-466d-ac6b-652e34293b91",
   "metadata": {},
   "outputs": [],
   "source": [
    "#Measurements are probabilistic, so the method can return different results when run multiple times"
   ]
  },
  {
   "cell_type": "code",
   "execution_count": 11,
   "id": "c609ef31-d843-4239-a70e-d7ae3c98f853",
   "metadata": {},
   "outputs": [
    {
     "data": {
      "image/png": "[encoded data removed]",
      "text/plain": [
       "<Figure size 640x480 with 1 Axes>"
      ]
     },
     "execution_count": 11,
     "metadata": {},
     "output_type": "execute_result"
    }
   ],
   "source": [
    "#Statevector class provides another method called 'sample_counts' that lets you perform measurements as many times as you want, each time starting with a fresh copy of the quantum state\n",
    "from qiskit.visualization import plot_histogram\n",
    "statistics = v.sample_counts(1000)\n",
    "plot_histogram(statistics)"
   ]
  },
  {
   "cell_type": "code",
   "execution_count": 13,
   "id": "508761b9-c69e-4a3d-8570-212190447608",
   "metadata": {},
   "outputs": [],
   "source": [
    "#Running this code on your own multiple times, with different numbers of samples in place of 1000 may be helpful for developing some intuition for how the number of trials influences the number of times each outcome appears. \n",
    "#With more and more samples, the fraction of samples for each possibility is likely to get closer and closer to the corresponding probability. \n",
    "#This phenomenon, more generally speaking, is known as the law of large numbers in probability theory."
   ]
  }
 ],
 "metadata": {
  "kernelspec": {
   "display_name": "Python 3 (ipykernel)",
   "language": "python",
   "name": "python3"
  },
  "language_info": {
   "codemirror_mode": {
    "name": "ipython",
    "version": 3
   },
   "file_extension": ".py",
   "mimetype": "text/x-python",
   "name": "python",
   "nbconvert_exporter": "python",
   "pygments_lexer": "ipython3",
   "version": "3.13.1"
  }
 },
 "nbformat": 4,
 "nbformat_minor": 5
}
