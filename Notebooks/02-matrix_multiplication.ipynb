{
 "cells": [
  {
   "cell_type": "code",
   "execution_count": 1,
   "id": "05f3342e-eb41-463e-83f7-1dae90164968",
   "metadata": {},
   "outputs": [],
   "source": [
    "#matrix multiplication, including matrix-vector multiplication, can be performed using the matmul function in NumPy"
   ]
  },
  {
   "cell_type": "code",
   "execution_count": 2,
   "id": "dd2c5c98-597f-4adf-b86d-7a129f6c5651",
   "metadata": {},
   "outputs": [],
   "source": [
    "import numpy as np"
   ]
  },
  {
   "cell_type": "code",
   "execution_count": 6,
   "id": "a125feb7-5b9a-4a10-877e-579cf656689e",
   "metadata": {},
   "outputs": [],
   "source": [
    "ket0 = np.array([[1], [0]])"
   ]
  },
  {
   "cell_type": "code",
   "execution_count": 7,
   "id": "f0575538-d029-4e5a-95b0-a71462467b31",
   "metadata": {},
   "outputs": [],
   "source": [
    "ket1 = np.array([[0], [1]])"
   ]
  },
  {
   "cell_type": "code",
   "execution_count": null,
   "id": "77db2113-95ff-4e67-ba64-93d8d8e2c9ac",
   "metadata": {},
   "outputs": [],
   "source": [
    "M1 = np.array([[1,1],[0,0]])"
   ]
  },
  {
   "cell_type": "code",
   "execution_count": 8,
   "id": "5faa1240-6886-4bd7-9e75-d55f91c55391",
   "metadata": {},
   "outputs": [],
   "source": [
    "M2 = np.array([[1,0], [0,1]])"
   ]
  },
  {
   "cell_type": "code",
   "execution_count": 9,
   "id": "34393e20-74f9-4a5d-807b-8602b253f5c2",
   "metadata": {},
   "outputs": [],
   "source": [
    "M = M1/2 + M2/2"
   ]
  },
  {
   "cell_type": "code",
   "execution_count": 10,
   "id": "de915ab2-71d7-417a-b7fa-074e5ac54547",
   "metadata": {},
   "outputs": [
    {
     "name": "stdout",
     "output_type": "stream",
     "text": [
      "[[1.  0.5]\n",
      " [0.  0.5]]\n"
     ]
    }
   ],
   "source": [
    "print(M)"
   ]
  },
  {
   "cell_type": "code",
   "execution_count": 11,
   "id": "47082a9e-6be3-46d2-a5b4-facd943c1c93",
   "metadata": {},
   "outputs": [
    {
     "name": "stdout",
     "output_type": "stream",
     "text": [
      "[[1]\n",
      " [0]]\n"
     ]
    }
   ],
   "source": [
    "print(np.matmul(M1, ket1)) #multiplying matrix M1 to column vector ket1"
   ]
  },
  {
   "cell_type": "code",
   "execution_count": 12,
   "id": "09e645c0-d66a-4353-89f1-19a5fc20153d",
   "metadata": {},
   "outputs": [
    {
     "name": "stdout",
     "output_type": "stream",
     "text": [
      "[[1 1]\n",
      " [0 0]]\n"
     ]
    }
   ],
   "source": [
    "print(np.matmul(M1, M2)) #multiplying two matrices M1 and M2"
   ]
  },
  {
   "cell_type": "code",
   "execution_count": 13,
   "id": "15753ee9-f013-4c7f-9bf2-8c2f1bfce646",
   "metadata": {},
   "outputs": [
    {
     "name": "stdout",
     "output_type": "stream",
     "text": [
      "[[1.   0.75]\n",
      " [0.   0.25]]\n"
     ]
    }
   ],
   "source": [
    "print(np.matmul(M, M)) #multiplying matrix M to itself"
   ]
  },
  {
   "cell_type": "code",
   "execution_count": 14,
   "id": "b9ec0755-68c7-469f-b3a3-9c3a85403551",
   "metadata": {},
   "outputs": [],
   "source": [
    "#array_to_latex function from the qiskit_visualization module can help improve the formatting"
   ]
  },
  {
   "cell_type": "code",
   "execution_count": 17,
   "id": "6e616d9b-b53b-4686-a20e-3a635c765d39",
   "metadata": {},
   "outputs": [],
   "source": [
    "from qiskit.visualization import array_to_latex"
   ]
  },
  {
   "cell_type": "code",
   "execution_count": null,
   "id": "d08ecc25-7d95-40d7-b537-1df52b59d1b7",
   "metadata": {},
   "outputs": [],
   "source": [
    "display(array_to_latex(np.matmul(M"
   ]
  }
 ],
 "metadata": {
  "kernelspec": {
   "display_name": "Python 3 (ipykernel)",
   "language": "python",
   "name": "python3"
  },
  "language_info": {
   "codemirror_mode": {
    "name": "ipython",
    "version": 3
   },
   "file_extension": ".py",
   "mimetype": "text/x-python",
   "name": "python",
   "nbconvert_exporter": "python",
   "pygments_lexer": "ipython3",
   "version": "3.13.1"
  }
 },
 "nbformat": 4,
 "nbformat_minor": 5
}
