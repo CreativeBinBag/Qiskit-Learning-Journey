{
 "cells": [
  {
   "cell_type": "code",
   "execution_count": 1,
   "id": "fc21dbf2-212f-4b83-9c7d-034e182c020f",
   "metadata": {},
   "outputs": [],
   "source": [
    "#the Operator class is used to represent quantum gates or transformations as matrices\n",
    "from qiskit.quantum_info import Operator"
   ]
  },
  {
   "cell_type": "code",
   "execution_count": 2,
   "id": "b8dcdb47-3f03-43f9-be32-6e9488e71983",
   "metadata": {},
   "outputs": [],
   "source": [
    "#create an Operator object representing the Pauli Y matrix\n",
    "#IMPORTANT: 1.0j represents the imaginary unit i in Python\n",
    "V = Operator([[0, -1.0j], [1.0j, 0]])"
   ]
  },
  {
   "cell_type": "code",
   "execution_count": 3,
   "id": "1ac5c64c-c6c8-4510-892e-da3a1f303367",
   "metadata": {},
   "outputs": [
    {
     "data": {
      "text/latex": [
       "$$\n",
       "\n",
       "\\begin{bmatrix}\n",
       "0 & - i  \\\\\n",
       " i & 0  \\\\\n",
       " \\end{bmatrix}\n",
       "$$"
      ],
      "text/plain": [
       "<IPython.core.display.Latex object>"
      ]
     },
     "metadata": {},
     "output_type": "display_data"
    }
   ],
   "source": [
    "#the Operator class provides the draw method like the Statevector class, but this time please notice how the latex option produces results like the array_from_latex\n",
    "display(V.draw(\"latex\"))"
   ]
  },
  {
   "cell_type": "code",
   "execution_count": 10,
   "id": "1209ce1f-a258-4316-997b-25e6da042961",
   "metadata": {},
   "outputs": [
    {
     "data": {
      "text/latex": [
       "$$- \\frac{\\sqrt{2} i}{2} |0\\rangle+\\frac{\\sqrt{2} i}{2} |1\\rangle$$"
      ],
      "text/plain": [
       "<IPython.core.display.Latex object>"
      ]
     },
     "metadata": {},
     "output_type": "display_data"
    }
   ],
   "source": [
    "#We can apply a unitary operation on a state vector using the evolve method\n",
    "from qiskit.quantum_info import Statevector\n",
    "from numpy import sqrt\n",
    "v = Statevector([1/sqrt(2), 1/sqrt(2)])\n",
    "\n",
    "v = v.evolve(V)\n",
    "display(v.draw(\"latex\"))"
   ]
  },
  {
   "cell_type": "code",
   "execution_count": null,
   "id": "f5579f2f-074a-47a3-8107-bd12b169c91b",
   "metadata": {},
   "outputs": [],
   "source": []
  }
 ],
 "metadata": {
  "kernelspec": {
   "display_name": "Python 3 (ipykernel)",
   "language": "python",
   "name": "python3"
  },
  "language_info": {
   "codemirror_mode": {
    "name": "ipython",
    "version": 3
   },
   "file_extension": ".py",
   "mimetype": "text/x-python",
   "name": "python",
   "nbconvert_exporter": "python",
   "pygments_lexer": "ipython3",
   "version": "3.13.1"
  }
 },
 "nbformat": 4,
 "nbformat_minor": 5
}
