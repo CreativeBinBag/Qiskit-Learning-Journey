{
 "cells": [
  {
   "cell_type": "code",
   "execution_count": 4,
   "id": "c431b655-6876-49df-98e9-44d0d4966ba0",
   "metadata": {},
   "outputs": [],
   "source": [
    "#Instead of the \"array\" class from the NumPy library, we should use Statevector class from Qiskit's quantum_info module. The reasons are given below:"
   ]
  },
  {
   "cell_type": "code",
   "execution_count": 5,
   "id": "4f540fb3-8528-4c39-a0c0-04c51758d9c5",
   "metadata": {},
   "outputs": [],
   "source": [
    "#Quantum states must always be normalized. The Statevector class automatically detects normalization and if the states aren't normalized, the class enforces it.\n",
    "#StateVector provides built-in methods tailored for quantum computing, such as applying quantum gates, computing inner products, and calculating probabilities."
   ]
  },
  {
   "cell_type": "code",
   "execution_count": 6,
   "id": "bccd05ef-ed7b-4877-9e1b-cf5b1a4f5f7d",
   "metadata": {},
   "outputs": [],
   "source": [
    "from qiskit.quantum_info import Statevector\n",
    "from numpy import sqrt"
   ]
  },
  {
   "cell_type": "code",
   "execution_count": 10,
   "id": "f05f377c-1a05-471f-a770-7db61a488d1d",
   "metadata": {},
   "outputs": [],
   "source": [
    "#create a Statevector object 'u'\n",
    "u = Statevector([1/sqrt(2) , 1/sqrt(2)])\n",
    "#the state vector is defined as [1/√2, 1/√2]\n",
    "#Mathematically, it represents a quantum state, particularly a \"equal-superposition state\"\n"
   ]
  },
  {
   "cell_type": "code",
   "execution_count": 14,
   "id": "2342f289-47bb-48b0-baa3-f5433d9ba739",
   "metadata": {},
   "outputs": [],
   "source": [
    "#create another Statevector object 'v'\n",
    "v = Statevector([(1 + 2.0j) / 3, -2 / 3])\n",
    "#this is a complex quantum state\n",
    "#if you check, you will see that the quantum state is normalized"
   ]
  },
  {
   "cell_type": "code",
   "execution_count": 13,
   "id": "49131c6e-d2fb-40b0-aa32-4e28f9e5e860",
   "metadata": {},
   "outputs": [],
   "source": [
    "#create another Statevector object 'w'\n",
    "w = Statevector([1 / 3, 2 / 3])\n",
    "#this isn't necessarily normalized, as the sum of the amplitudes squared doesn't equal to one"
   ]
  },
  {
   "cell_type": "code",
   "execution_count": 15,
   "id": "3810861f-38e9-4d74-99dd-ceac286e5c83",
   "metadata": {},
   "outputs": [],
   "source": [
    "#Statevector provides a 'draw' method to display vectors in plain text, latex format, and raw latex "
   ]
  },
  {
   "cell_type": "code",
   "execution_count": 16,
   "id": "25354918-9716-44a5-8c85-989c3a00cad2",
   "metadata": {},
   "outputs": [
    {
     "data": {
      "text/plain": [
       "[0.70710678+0.j,0.70710678+0.j]"
      ]
     },
     "metadata": {},
     "output_type": "display_data"
    }
   ],
   "source": [
    "display(u.draw('text'))"
   ]
  },
  {
   "cell_type": "code",
   "execution_count": 17,
   "id": "f62894f1-73a4-4abd-af6d-0678ab7ce832",
   "metadata": {},
   "outputs": [
    {
     "data": {
      "text/latex": [
       "$$\\frac{\\sqrt{2}}{2} |0\\rangle+\\frac{\\sqrt{2}}{2} |1\\rangle$$"
      ],
      "text/plain": [
       "<IPython.core.display.Latex object>"
      ]
     },
     "metadata": {},
     "output_type": "display_data"
    }
   ],
   "source": [
    "display(u.draw('latex'))"
   ]
  },
  {
   "cell_type": "code",
   "execution_count": 18,
   "id": "f93bb53a-f7a2-4bff-906a-f148f810cac4",
   "metadata": {},
   "outputs": [
    {
     "data": {
      "text/plain": [
       "'\\\\frac{\\\\sqrt{2}}{2} |0\\\\rangle+\\\\frac{\\\\sqrt{2}}{2} |1\\\\rangle'"
      ]
     },
     "metadata": {},
     "output_type": "display_data"
    }
   ],
   "source": [
    "display(u.draw('latex_source'))"
   ]
  },
  {
   "cell_type": "code",
   "execution_count": null,
   "id": "67446b92-7072-48d1-b398-5a3dd7af5334",
   "metadata": {},
   "outputs": [],
   "source": [
    "#The Statevector class also provides a method like I mentioned earlier to check whether a quantum state is normalized\n",
    "display(u.isValid"
   ]
  }
 ],
 "metadata": {
  "kernelspec": {
   "display_name": "Python 3 (ipykernel)",
   "language": "python",
   "name": "python3"
  },
  "language_info": {
   "codemirror_mode": {
    "name": "ipython",
    "version": 3
   },
   "file_extension": ".py",
   "mimetype": "text/x-python",
   "name": "python",
   "nbconvert_exporter": "python",
   "pygments_lexer": "ipython3",
   "version": "3.13.1"
  }
 },
 "nbformat": 4,
 "nbformat_minor": 5
}
