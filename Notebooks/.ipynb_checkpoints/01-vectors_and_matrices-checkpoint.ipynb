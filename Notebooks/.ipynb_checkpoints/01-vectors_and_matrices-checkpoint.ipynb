{
 "cells": [
  {
   "cell_type": "code",
   "execution_count": 1,
   "id": "5b1755c2-2f8b-431e-bb30-aa0ee57edfa3",
   "metadata": {},
   "outputs": [],
   "source": [
    "import numpy as np"
   ]
  },
  {
   "cell_type": "code",
   "execution_count": 13,
   "id": "b8c4daef-e678-4910-ad34-11c1db19e721",
   "metadata": {},
   "outputs": [],
   "source": [
    "ket0 = np.array([[1], [0]]) #ket0 is a computational basis state (also a column vector) representing the quantum state 0"
   ]
  },
  {
   "cell_type": "code",
   "execution_count": 14,
   "id": "b8d0f8bd-330c-4aab-8f80-7cf7e68a3ddf",
   "metadata": {},
   "outputs": [],
   "source": [
    "ket1 = np.array([[0], [1]]) #ket1 is a computational basis state (also a column vector) representing the quantum state 1"
   ]
  },
  {
   "cell_type": "code",
   "execution_count": 15,
   "id": "79a5f51f-c0fb-442b-aeb7-f0f1fe369ae9",
   "metadata": {},
   "outputs": [
    {
     "name": "stdout",
     "output_type": "stream",
     "text": [
      "[[0.5]\n",
      " [0.5]]\n"
     ]
    }
   ],
   "source": [
    "print(ket0/2 + ket1/2) #we are printing the average because in quantum mechanics, we often construct the superposition of basis states"
   ]
  },
  {
   "cell_type": "code",
   "execution_count": 6,
   "id": "83e0fe68-a0d6-4a37-a718-b76321ded7c5",
   "metadata": {},
   "outputs": [],
   "source": [
    "#we can also use the array class to show matrix computation/operation"
   ]
  },
  {
   "cell_type": "code",
   "execution_count": 12,
   "id": "7e73507c-f9d0-492c-931f-c69faec2546a",
   "metadata": {},
   "outputs": [],
   "source": [
    "M1 = np.array([[1,1], [0,0]]) #creating a list of lists "
   ]
  },
  {
   "cell_type": "code",
   "execution_count": 9,
   "id": "7a0ff492-0904-46b3-b325-ff4fb77148c1",
   "metadata": {},
   "outputs": [],
   "source": [
    "M2 = np.array([[1,0], [0,1]])"
   ]
  },
  {
   "cell_type": "code",
   "execution_count": 10,
   "id": "1a86a946-4565-434d-8786-e97c0e5c7049",
   "metadata": {},
   "outputs": [],
   "source": [
    "M = M1/2 + M2/2"
   ]
  },
  {
   "cell_type": "code",
   "execution_count": 11,
   "id": "664e13c1-c20e-47e2-9538-9beec959bbe5",
   "metadata": {},
   "outputs": [
    {
     "name": "stdout",
     "output_type": "stream",
     "text": [
      "[[1.  0.5]\n",
      " [0.  0.5]]\n"
     ]
    }
   ],
   "source": [
    "print(M)"
   ]
  }
 ],
 "metadata": {
  "kernelspec": {
   "display_name": "Python 3 (ipykernel)",
   "language": "python",
   "name": "python3"
  },
  "language_info": {
   "codemirror_mode": {
    "name": "ipython",
    "version": 3
   },
   "file_extension": ".py",
   "mimetype": "text/x-python",
   "name": "python",
   "nbconvert_exporter": "python",
   "pygments_lexer": "ipython3",
   "version": "3.13.1"
  }
 },
 "nbformat": 4,
 "nbformat_minor": 5
}
